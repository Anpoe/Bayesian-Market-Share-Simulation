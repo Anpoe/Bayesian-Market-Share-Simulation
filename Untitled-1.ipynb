{
 "cells": [
  {
   "cell_type": "code",
   "execution_count": null,
   "metadata": {
    "vscode": {
     "languageId": "r"
    }
   },
   "outputs": [],
   "source": [
    "# if the bayesm package is not installed, use install.packages(\"bayesm\") to\n",
    "# install the package first\n",
    "library(bayesm)\n",
    "\n",
    "data(camera)"
   ]
  },
  {
   "cell_type": "code",
   "execution_count": null,
   "metadata": {
    "vscode": {
     "languageId": "r"
    }
   },
   "outputs": [],
   "source": [
    "#' Simulates market shares based on the multinomial logit model. The preference\n",
    "#' parameters are assumed to be estimated using a Bayesian hierarchical model.\n",
    "#' The number of draws of the population level parameters are determined by the\n",
    "#' MCMC chain length of the provided estimation.\n",
    "#' @param X matrix of product attributes in a customer's consideration sets\n",
    "#' @param estimation object storing the estimation output from the choice model by\n",
    "#' `rhierMnlRwMixture()` in the `bayesm` package.\n",
    "#' @param ndraws number of beta draws in the market share simulation. More draws\n",
    "#' obviously take longer to run but yield more precise market share prediction.\n",
    "#' @param agg default `TRUE`. If `TRUE`, aggregate market shares over\n",
    "#' parameter distributions. Otherwise report the collection of market shares.\n",
    "#' @return the average market shares of all market share simulations\n",
    "mktsharesim = function(X, estimation, ndraw=200, agg=TRUE) {\n",
    "    # `bayesm.riherMnlRwMixture()` has some quirky output data structure\n",
    "    n_attr = length(estimation$nmix$compdraw[[1]][[1]]$mu)\n",
    "    n_opt = nrow(X)\n",
    "    n_comp = length(estimation$nmix$compdraw[[1]])\n",
    "    R = length(estimation$nmix$compdraw)\n",
    "    burn = R / 2\n",
    "    shares = matrix(0.0, n_opt, R - burn)\n",
    "\n",
    "    # counter for market shares. Indexing for MCMC chain does not start at 1 due\n",
    "    # to burning\n",
    "    i = 1\n",
    "    # each column is a MCMC draw. Transformed to work better with R's \n",
    "    # column-major design\n",
    "    comp_probs = t(estimation$nmix$probdraw)\n",
    "    for (r in (burn + 1):R) {\n",
    "      pvec = comp_probs[, r]\n",
    "      comp_draws = sample.int(n_comp, ndraw, TRUE, pvec)\n",
    "      # comp_frequency = table(comp_draws)\n",
    "      beta = matrix(0.0, n_attr, ndraw)\n",
    "      # used for allocating beta draws\n",
    "      beta_index = 0\n",
    "      for (comp in 1:n_comp) {\n",
    "        n_customer_comp = sum(comp_draws == comp)\n",
    "        comp_start = beta_index + 1\n",
    "        comp_end = beta_index + n_customer_comp\n",
    "        mu = estimation$nmix$compdraw[[r]][[comp]]$mu\n",
    "        rooti = estimation$nmix$compdraw[[r]][[comp]]$rooti\n",
    "        noise = t(solve(rooti)) %*% matrix(rnorm(n_attr * n_customer_comp), n_attr)\n",
    "        beta[, comp_start:comp_end] = mu + noise\n",
    "        # enforce the negative sign restriction for the parameter on price\n",
    "        beta[n_attr, comp_start:comp_end] =\n",
    "          -exp(beta[n_attr, comp_start:comp_end])\n",
    "        beta_index = beta_index + n_customer_comp\n",
    "      }\n",
    "      utilities = exp(X %*% beta)\n",
    "      shares_mat = utilities / matrix(rep(colSums(utilities), each=n_opt),\n",
    "          n_opt)\n",
    "      shares[, i] = rowMeans(shares_mat)\n",
    "      i = i + 1\n",
    "    }\n",
    "    if (agg) {\n",
    "      return(rowMeans(shares))\n",
    "    } else {\n",
    "      return(shares)\n",
    "    }\n",
    "}\n",
    "\n",
    "# conjoing estimation\n",
    "nvar = ncol(camera[[1]]$X)\n",
    "\n",
    "Data = list(\n",
    "  p = 5,\n",
    "  lgtdata = camera\n",
    ")\n",
    "Prior = list(\n",
    "  ncomp = 1,\n",
    "  SignRes = c(double(nvar - 1), -1)\n",
    ")\n",
    "Mcmc = list(\n",
    "  R = 30000,\n",
    "  keep = 15,\n",
    "  nprint = 1000\n",
    ")\n",
    "\n",
    "# estimate logit model\n",
    "set.seed(777)\n",
    "estimation = rhierMnlRwMixture(Data, Prior, Mcmc)\n"
   ]
  },
  {
   "cell_type": "code",
   "execution_count": null,
   "metadata": {
    "vscode": {
     "languageId": "r"
    }
   },
   "outputs": [],
   "source": [
    "# a)\n",
    "# create a price sequence\n",
    "price <- seq(from = 0.5, to = 5, by = 0.1)\n",
    "# print only the first 10 values\n",
    "print(price[1:10])\n"
   ]
  },
  {
   "cell_type": "code",
   "execution_count": null,
   "metadata": {
    "vscode": {
     "languageId": "r"
    }
   },
   "outputs": [],
   "source": [
    "# b)\n",
    "# create a profit value with same length of price\n",
    "profit <- seq(from = 0.5, to = 5, by = 0.1)\n",
    "# input seed\n",
    "set.seed(1012)\n",
    "# loop\n",
    "for (i in 1:length(profit))\n",
    "  {\n",
    "  canon <- c(1, 0, 0, 0, 1, 0, 1, 1, 0, price[i])\n",
    "  sony <-c (0, 1, 0, 0, 0, 0, 0, 0, 0, 2)\n",
    "  nikon <- c(0, 0, 1, 0, 0, 0, 0, 0, 0, 2)\n",
    "  panasonic <- c(0, 0, 0, 1, 0, 0, 0, 0, 0, 2)\n",
    "  none <- c(0, 0, 0, 0, 0, 0, 0, 0, 0, 0)\n",
    "  brand <- rbind(canon, sony, nikon, panasonic, none)\n",
    "  pred <- mktsharesim(brand, estimation, ndraw = 200, agg = TRUE)\n",
    "  \n",
    "  # take only first line of profit is our estimate value\n",
    "  pred <- pred[1]\n",
    "  final <- (price[i] - 0.5) * pred * 100\n",
    "  profit[i] <- final\n",
    "  }\n",
    "\n",
    "print(profit)\n",
    "print(final)"
   ]
  },
  {
   "cell_type": "code",
   "execution_count": null,
   "metadata": {
    "vscode": {
     "languageId": "r"
    }
   },
   "outputs": [],
   "source": [
    "#c)\n",
    "library(ggplot2)\n",
    "# create matrix\n",
    "m_pp <- cbind(price, profit)\n",
    "\n",
    "# make the matrix into a data frame\n",
    "m_pp <- data.frame(m_pp)\n",
    "m_pp\n",
    "#plot the line chart according to the data frame\n",
    "ggplot(data = m_pp, aes(price, profit)) +\n",
    "geom_line() + geom_vline(xintercept = price[profit == max(profit)],\n",
    "color = '#cd9ec68a')\n",
    "\n",
    "max(profit)\n",
    "price[profit == max(profit)]\n",
    "\n",
    "# The profit maximizing price is $200\n"
   ]
  },
  {
   "cell_type": "code",
   "execution_count": null,
   "metadata": {
    "vscode": {
     "languageId": "r"
    }
   },
   "outputs": [],
   "source": [
    "# d)\n",
    "# create a profit value with same length of price\n",
    "profit_1 <- seq(from = 0.5, to = 5, by = 0.1)\n",
    "# input seed\n",
    "set.seed(1026)\n",
    "# loop\n",
    "for (i in 1:length(profit_1))\n",
    "  {\n",
    "  Sony <- c(0, 1, 0, 0, 0, 0, 0, 0, 0, 2)\n",
    "  Nikon <- c(0, 0, 1, 0, 0, 0, 0, 0, 0, 2)\n",
    "  Panasonic <- c(0, 0, 0, 1, 0, 0, 0, 0, 0, 2)\n",
    "  None <- c(0, 0, 0, 0, 0, 0, 0, 0, 0, 0)\n",
    "  Canon_wifi <- c(1, 0, 0, 0, 1, 0, 1, 1, 1, price[i])\n",
    "  brand_wifi <- rbind(Canon_wifi, Sony, Nikon, Panasonic, None)\n",
    "  pred2 <- mktsharesim(brand_wifi, estimation, ndraw = 200, agg = TRUE)\n",
    "  # take only first line of profit is our estimate value\n",
    "  pred2 <- pred2[1]\n",
    "  final_wifi <- (price[i] - 0.55) * pred2 * 100\n",
    "  profit_1[i] <- final_wifi\n",
    "}\n",
    "\n",
    "print(profit_1)\n",
    "print(final_wifi)\n",
    "\n",
    "m_pp1 <- cbind(price, profit_1)\n",
    "\n",
    "# make the matrix into a data frame\n",
    "m_pp1 <- data.frame(m_pp)\n",
    "m_pp1\n",
    "#plot the line chart according to the data frame\n",
    "ggplot(data = m_pp1, aes(price, profit_1)) +\n",
    "  geom_line() + geom_vline(xintercept = price[profit_1 == max(profit_1)],\n",
    "                           color = '#2222dc8a')\n",
    "\n",
    "max(profit_1)\n",
    "price[profit_1 == max(profit_1)]\n",
    "\n",
    "# the max profit is 67.96 > 53.5\n",
    "# therefore they should change, and set price at 250"
   ]
  }
 ],
 "metadata": {
  "kernelspec": {
   "display_name": "R",
   "language": "R",
   "name": "ir"
  },
  "language_info": {
   "codemirror_mode": "r",
   "file_extension": ".r",
   "mimetype": "text/x-r-source",
   "name": "R",
   "pygments_lexer": "r",
   "version": "4.2.1"
  },
  "orig_nbformat": 4,
  "vscode": {
   "interpreter": {
    "hash": "25a19fbe0a9132dfb9279d48d161753c6352f8f9478c2e74383d340069b907c3"
   }
  }
 },
 "nbformat": 4,
 "nbformat_minor": 2
}
